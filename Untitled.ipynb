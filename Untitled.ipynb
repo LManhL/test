{
 "cells": [
  {
   "cell_type": "code",
   "execution_count": 8,
   "id": "df7f9f25-afec-4816-85fd-7d9b66804e87",
   "metadata": {},
   "outputs": [
    {
     "name": "stdout",
     "output_type": "stream",
     "text": [
      "A FAT CAT\n"
     ]
    }
   ],
   "source": [
    "cat=\"a fat cat\"\n",
    "print(cat.upper())"
   ]
  },
  {
   "cell_type": "code",
   "execution_count": null,
   "id": "77204b1b-f95d-49a1-8e3a-e9c88269b8fe",
   "metadata": {},
   "outputs": [],
   "source": []
  },
  {
   "cell_type": "code",
   "execution_count": null,
   "id": "5eacfd33-d043-4fd6-b550-bed37e47961d",
   "metadata": {},
   "outputs": [],
   "source": []
  },
  {
   "cell_type": "code",
   "execution_count": null,
   "id": "74108d0b-77c8-4046-b721-d6d2be8ef0ad",
   "metadata": {},
   "outputs": [],
   "source": []
  }
 ],
 "metadata": {
  "kernelspec": {
   "display_name": "Python 3 (ipykernel)",
   "language": "python",
   "name": "python3"
  },
  "language_info": {
   "codemirror_mode": {
    "name": "ipython",
    "version": 3
   },
   "file_extension": ".py",
   "mimetype": "text/x-python",
   "name": "python",
   "nbconvert_exporter": "python",
   "pygments_lexer": "ipython3",
   "version": "3.9.13"
  }
 },
 "nbformat": 4,
 "nbformat_minor": 5
}
